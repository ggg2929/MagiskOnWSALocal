{
  "cells": [
    {
      "cell_type": "markdown",
      "metadata": {
        "id": "view-in-github",
        "colab_type": "text"
      },
      "source": [
        "<a href=\"https://colab.research.google.com/github/ggg2929/MagiskOnWSALocal/blob/main/Salinan_dari_TA_GRACE.ipynb\" target=\"_parent\"><img src=\"https://colab.research.google.com/assets/colab-badge.svg\" alt=\"Open In Colab\"/></a>"
      ]
    },
    {
      "cell_type": "markdown",
      "source": [
        "# **MERGE DATA CSV**\n",
        "\n",
        "> Tambahkan blockquote\n",
        "\n"
      ],
      "metadata": {
        "id": "CFajvqiJJIbp"
      }
    },
    {
      "cell_type": "code",
      "source": [
        "import pandas as pd\n",
        "\n",
        "# Daftar file CSV dengan path yang benar\n",
        "# Ubah path jika file berada di direktori yang berbeda\n",
        "file_list = [\n",
        "    '/content/data1.csv',\n",
        "    '/content/data2.csv',\n",
        "    '/content/data3.csv',\n",
        "    '/content/data4.csv'\n",
        "]\n",
        "\n",
        "all_data = []\n",
        "\n",
        "# Membaca dan menggabungkan semua file CSV\n",
        "for file in file_list:\n",
        "    try:\n",
        "        df = pd.read_csv(file)\n",
        "        all_data.append(df)\n",
        "        print(f\"✅ Berhasil membaca file: {file}\")\n",
        "    except FileNotFoundError:\n",
        "        print(f\"❌ Error: File tidak ditemukan: {file}. Pastikan file ada di lokasi yang benar.\")\n",
        "        # Anda bisa memilih untuk keluar atau melewatkan file ini\n",
        "        continue # Lanjutkan ke file berikutnya meskipun satu tidak ditemukan\n",
        "    except Exception as e:\n",
        "        print(f\"❌ Error saat membaca file {file}: {e}\")\n",
        "        continue # Lanjutkan ke file berikutnya\n",
        "\n",
        "# Gabungkan semua DataFrame jadi satu\n",
        "# Pastikan all_data tidak kosong sebelum menggabungkan\n",
        "if all_data:\n",
        "    merged_data = pd.concat(all_data, ignore_index=True)\n",
        "\n",
        "    # Simpan ke file CSV baru\n",
        "    merged_data.to_csv('data_gabungan.csv', index=False)\n",
        "\n",
        "    print(\"✅ Berhasil digabung jadi satu file: data_gabungan.csv\")\n",
        "else:\n",
        "    print(\"⚠️ Tidak ada data yang berhasil dibaca. File gabungan tidak dibuat.\")"
      ],
      "metadata": {
        "colab": {
          "base_uri": "https://localhost:8080/"
        },
        "id": "pa5XLqniNZhO",
        "outputId": "95d3c992-046f-424b-8a5f-d45a850197d9"
      },
      "execution_count": 1,
      "outputs": [
        {
          "output_type": "stream",
          "name": "stdout",
          "text": [
            "✅ Berhasil membaca file: /content/data1.csv\n",
            "✅ Berhasil membaca file: /content/data2.csv\n"
          ]
        },
        {
          "output_type": "stream",
          "name": "stderr",
          "text": [
            "<ipython-input-1-db1f68ac5384>:17: DtypeWarning: Columns (16,20,21,36,37,38,40,41,42,47,96,100,104,112,115,116,119,124,127,128,132,135,140,143,144,147,159,179,220,223,263,312,315,328,331,386,388,389,401,402,408,419,468,474,492,498,510,516,522,528,534,546,552,558,600,606,624,642,654,660,672,678,690,708,750,756) have mixed types. Specify dtype option on import or set low_memory=False.\n",
            "  df = pd.read_csv(file)\n"
          ]
        },
        {
          "output_type": "stream",
          "name": "stdout",
          "text": [
            "✅ Berhasil membaca file: /content/data3.csv\n",
            "✅ Berhasil membaca file: /content/data4.csv\n",
            "✅ Berhasil digabung jadi satu file: data_gabungan.csv\n"
          ]
        }
      ]
    },
    {
      "cell_type": "code",
      "source": [
        "from google.colab import files\n",
        "files.download('/content/data_gabungan.csv')\n"
      ],
      "metadata": {
        "colab": {
          "base_uri": "https://localhost:8080/",
          "height": 17
        },
        "id": "u9iP4sAWPMvz",
        "outputId": "a2a537f0-96d7-4c3d-8a15-e94a18737688"
      },
      "execution_count": 2,
      "outputs": [
        {
          "output_type": "display_data",
          "data": {
            "text/plain": [
              "<IPython.core.display.Javascript object>"
            ],
            "application/javascript": [
              "\n",
              "    async function download(id, filename, size) {\n",
              "      if (!google.colab.kernel.accessAllowed) {\n",
              "        return;\n",
              "      }\n",
              "      const div = document.createElement('div');\n",
              "      const label = document.createElement('label');\n",
              "      label.textContent = `Downloading \"${filename}\": `;\n",
              "      div.appendChild(label);\n",
              "      const progress = document.createElement('progress');\n",
              "      progress.max = size;\n",
              "      div.appendChild(progress);\n",
              "      document.body.appendChild(div);\n",
              "\n",
              "      const buffers = [];\n",
              "      let downloaded = 0;\n",
              "\n",
              "      const channel = await google.colab.kernel.comms.open(id);\n",
              "      // Send a message to notify the kernel that we're ready.\n",
              "      channel.send({})\n",
              "\n",
              "      for await (const message of channel.messages) {\n",
              "        // Send a message to notify the kernel that we're ready.\n",
              "        channel.send({})\n",
              "        if (message.buffers) {\n",
              "          for (const buffer of message.buffers) {\n",
              "            buffers.push(buffer);\n",
              "            downloaded += buffer.byteLength;\n",
              "            progress.value = downloaded;\n",
              "          }\n",
              "        }\n",
              "      }\n",
              "      const blob = new Blob(buffers, {type: 'application/binary'});\n",
              "      const a = document.createElement('a');\n",
              "      a.href = window.URL.createObjectURL(blob);\n",
              "      a.download = filename;\n",
              "      div.appendChild(a);\n",
              "      a.click();\n",
              "      div.remove();\n",
              "    }\n",
              "  "
            ]
          },
          "metadata": {}
        },
        {
          "output_type": "display_data",
          "data": {
            "text/plain": [
              "<IPython.core.display.Javascript object>"
            ],
            "application/javascript": [
              "download(\"download_f7c95d44-8331-4ba3-8d0d-66511d14b801\", \"data_gabungan.csv\", 12675830)"
            ]
          },
          "metadata": {}
        }
      ]
    },
    {
      "cell_type": "markdown",
      "source": [
        "# **PREPROCESSING DNG NLP**"
      ],
      "metadata": {
        "id": "33buzaTDNIdU"
      }
    },
    {
      "cell_type": "code",
      "execution_count": 4,
      "metadata": {
        "colab": {
          "base_uri": "https://localhost:8080/"
        },
        "id": "bzJmvXJyby1Y",
        "outputId": "6d15f733-de22-47a7-c3e9-ce3396b8e51e"
      },
      "outputs": [
        {
          "output_type": "stream",
          "name": "stdout",
          "text": [
            "Collecting sastrawi\n",
            "  Downloading Sastrawi-1.0.1-py2.py3-none-any.whl.metadata (909 bytes)\n",
            "Downloading Sastrawi-1.0.1-py2.py3-none-any.whl (209 kB)\n",
            "\u001b[?25l   \u001b[90m━━━━━━━━━━━━━━━━━━━━━━━━━━━━━━━━━━━━━━━━\u001b[0m \u001b[32m0.0/209.7 kB\u001b[0m \u001b[31m?\u001b[0m eta \u001b[36m-:--:--\u001b[0m\r\u001b[2K   \u001b[91m━━━━━━━━━━━━━━━━━━━━━━━━━━━━━\u001b[0m\u001b[90m╺\u001b[0m\u001b[90m━━━━━━━━━━\u001b[0m \u001b[32m153.6/209.7 kB\u001b[0m \u001b[31m4.5 MB/s\u001b[0m eta \u001b[36m0:00:01\u001b[0m\r\u001b[2K   \u001b[90m━━━━━━━━━━━━━━━━━━━━━━━━━━━━━━━━━━━━━━━━\u001b[0m \u001b[32m209.7/209.7 kB\u001b[0m \u001b[31m3.8 MB/s\u001b[0m eta \u001b[36m0:00:00\u001b[0m\n",
            "\u001b[?25hInstalling collected packages: sastrawi\n",
            "Successfully installed sastrawi-1.0.1\n",
            "Requirement already satisfied: nltk in /usr/local/lib/python3.11/dist-packages (3.9.1)\n",
            "Requirement already satisfied: click in /usr/local/lib/python3.11/dist-packages (from nltk) (8.2.1)\n",
            "Requirement already satisfied: joblib in /usr/local/lib/python3.11/dist-packages (from nltk) (1.5.0)\n",
            "Requirement already satisfied: regex>=2021.8.3 in /usr/local/lib/python3.11/dist-packages (from nltk) (2024.11.6)\n",
            "Requirement already satisfied: tqdm in /usr/local/lib/python3.11/dist-packages (from nltk) (4.67.1)\n"
          ]
        }
      ],
      "source": [
        "!pip install sastrawi\n",
        "!pip install nltk"
      ]
    },
    {
      "cell_type": "code",
      "execution_count": 7,
      "metadata": {
        "colab": {
          "base_uri": "https://localhost:8080/"
        },
        "id": "3-YPKh_2tER2",
        "outputId": "2d02d7e9-0435-4de7-d007-4d846310451e"
      },
      "outputs": [
        {
          "output_type": "stream",
          "name": "stderr",
          "text": [
            "[nltk_data] Downloading package stopwords to /root/nltk_data...\n",
            "[nltk_data]   Package stopwords is already up-to-date!\n",
            "<ipython-input-7-02cd4d5e83e4>:44: DtypeWarning: Columns (1,3,5,6,7,12,14,15,16,17,20,21,24,27,28,31,32,35,37,38,39,42,43,44,45,46,50,52,53,54,57,58,59,60,62,63,65,66,67,68,69,70,71,72,73,82,83,84,85,86,88,89,90,95,97,98,99,101,102,103,105,106,107,109,110,111,114,116,118,119,120,122,123,124,126,127,128,130,131,132,134,135,136,138,139,140,142,143,144,146,147,148,150,151,152,154,155,156,158,159,160,162,163,164,166,167,168,170,171,172,174,175,176,178,179,180,182,183,184,186,187,188,190,191,192,194,195,196,198,199,200,202,203,206,208,210,211,212,214,215,216,218,219,222,226,227,230,234,238,242,246,247,250,254,258,262,266,270,274,278,282,286,288,290,291,294,298,302,306,310,314,318,322,326,330,331,334,338,342,346,350,354,358,362,366,370,374,378,380,382,383,386,390,394,396,398,399,402,406,410,414,418,422,426,430,434,438,442,446,450,452,453,454,455,456,457,458,459,460,464,465,466,467,468,469,470,471,472,474,475,476,477,479,481,483,484,485,486,487,489,491,492,493,494,495,496,497,498,499,500,501,502,503,504,505,506,507,508,509,510,511,512,513,514,515,516,517,518,519,520,521,522,523,524,525,526,528,529,530,531,532,533,534,535,536,537,538,539,540,541,542,543,544,545,546,547,548,549,550,552,553,554,555,556,557,558,559,560,561,562,563,564,565,566,567,568,569,570,571,572,573,574,575,576,577,578,579,580,581,582,583,584,585,586,587,588,589,590,591,592,593,594,595,596,597,598,599,600,601,602,603,604,606,607,608,609,610,611,612,613,614,615,616,617,618,619,620,621,622,623,624,625,626,627,628,630,631,632,633,634,636,637,638,639,640,642,643,644,645,646,648,649,650,651,652,654,655,656,657,658,660,661,662,663,664,665,666,667,668,669,670,671,672,673,674,675,676,678,679,680,681,682,684,685,686,687,688,689,690,691,692,693,694,696,697,698,699,700,702,703,704,705,706,707,708,709,710,711,712,714,715,716,717,718,719,720,721,722,723,724,725,726,727,728,729,730,732,733,734,735,736,737,738,739,740,741,742,743,744,745,746,747,748,750,751,752,753,754,755,756,757,758,759,760,761,762,763,764,765,766,768,769,770,771,772,773,774,775,776,777,778,780,781,782,783,784,785,786,787,788,789,790,792,793,794,795,796,798,799,800,801,802,804,805,806,807,808,810,811,812,813,814,815,816,817,818,819,820,821,822,823,824,825,826,828,829,830,831,832,834,835,836,837,838,840,841,842,843,844,847,848,849,850,851) have mixed types. Specify dtype option on import or set low_memory=False.\n",
            "  df = pd.read_csv('/content/data_gabungan.csv')  # Membaca data dari file\n"
          ]
        },
        {
          "output_type": "stream",
          "name": "stdout",
          "text": [
            "✅ File dengan preprocessing NLP lengkap disimpan sebagai 'komentar_prenlp_lengkap.csv'\n",
            "  comment_text preprocessed\n",
            "0          NaN          nan\n",
            "1          NaN          nan\n",
            "2          NaN          nan\n",
            "3          NaN          nan\n",
            "4          NaN          nan\n",
            "5          NaN          nan\n",
            "6          NaN          nan\n",
            "7          NaN          nan\n",
            "8          NaN          nan\n",
            "9          NaN          nan\n"
          ]
        }
      ],
      "source": [
        "import pandas as pd\n",
        "import re\n",
        "import string\n",
        "import nltk\n",
        "from nltk.corpus import stopwords\n",
        "from Sastrawi.Stemmer.StemmerFactory import StemmerFactory\n",
        "\n",
        "# === Setup Awal ===\n",
        "nltk.download('stopwords')  # Download stopwords bahasa Indonesia dari NLTK\n",
        "stop_words = set(stopwords.words('indonesian'))  # Stopwords bahasa Indonesia\n",
        "\n",
        "# Stemmer (untuk stemming kata dasar)\n",
        "factory = StemmerFactory()\n",
        "stemmer = factory.create_stemmer()\n",
        "\n",
        "# Kamus kata tidak baku (normalisasi)\n",
        "normalisasi_kata = {\n",
        "    'gk': 'tidak', 'ga': 'tidak', 'nggak': 'tidak', 'bgt': 'banget',\n",
        "    'bikin': 'membuat', 'ngerti': 'mengerti', 'belom': 'belum', 'tp': 'tapi',\n",
        "    'yg': 'yang', 'udh': 'sudah', 'dr': 'dari', 'aja': 'saja', 'bljr': 'belajar',\n",
        "    'sm': 'sama', 'makasih': 'terima kasih', 'dpt': 'dapat', 'klo': 'kalau'\n",
        "}\n",
        "\n",
        "# === Fungsi Normalisasi ===\n",
        "def normalize_text(text):\n",
        "    \"\"\"Normalisasi kata tidak baku seperti 'gk' menjadi 'tidak'.\"\"\"\n",
        "    tokens = text.split()\n",
        "    tokens = [normalisasi_kata.get(word, word) for word in tokens]\n",
        "    return ' '.join(tokens)\n",
        "\n",
        "# === Fungsi Preprocessing Lengkap ===\n",
        "def preprocess_text(text):\n",
        "    \"\"\"Fungsi untuk preprocessing lengkap: normalisasi, hapus angka, hapus tanda baca, stopwords, dan stemming.\"\"\"\n",
        "    text = str(text).lower()  # Mengubah ke huruf kecil\n",
        "    text = re.sub(r'\\d+', '', text)  # Menghapus angka\n",
        "    text = text.translate(str.maketrans('', '', string.punctuation))  # Menghapus tanda baca\n",
        "    text = normalize_text(text)  # Normalisasi kata tidak baku\n",
        "    tokens = text.split()\n",
        "    tokens = [word for word in tokens if word not in stop_words]  # Menghapus stopword\n",
        "    text = ' '.join(tokens)  # Menggabungkan kembali token menjadi kalimat\n",
        "    return stemmer.stem(text)  # Stemming untuk mengembalikan ke bentuk dasar\n",
        "\n",
        "# === BACA DATA KOMENTAR ===\n",
        "df = pd.read_csv('/content/data_gabungan.csv')  # Membaca data dari file\n",
        "df['preprocessed'] = df['comment_text'].apply(preprocess_text)  # Terapkan preprocessing\n",
        "\n",
        "# === SIMPAN HASIL ===\n",
        "df.to_csv('preprocessing.csv', index=False)  # Simpan data yang sudah diproses\n",
        "print(\"✅ File dengan preprocessing NLP lengkap disimpan sebagai 'komentar_prenlp_lengkap.csv'\")\n",
        "\n",
        "# Tampilkan contoh hasil preprocessing\n",
        "print(df[['comment_text', 'preprocessed']].head(10))"
      ]
    },
    {
      "cell_type": "markdown",
      "metadata": {
        "id": "Pzj_r7dwVuXB"
      },
      "source": [
        "## **LABEL**"
      ]
    },
    {
      "cell_type": "code",
      "execution_count": 9,
      "metadata": {
        "id": "06VIX-ISVc2g",
        "colab": {
          "base_uri": "https://localhost:8080/"
        },
        "outputId": "2fc5861e-6e8c-400b-879c-9e5570a8e075"
      },
      "outputs": [
        {
          "output_type": "stream",
          "name": "stderr",
          "text": [
            "<ipython-input-9-7df2464ddc5f>:4: DtypeWarning: Columns (1,3,5,6,7,12,14,15,16,17,20,21,24,27,28,31,32,35,37,38,39,42,43,44,45,46,50,52,53,54,57,58,59,60,62,63,65,66,67,68,69,70,71,72,73,82,83,84,85,86,88,89,90,95,97,98,99,101,102,103,105,106,107,109,110,111,114,116,118,119,120,122,123,124,126,127,128,130,131,132,134,135,136,138,139,140,142,143,144,146,147,148,150,151,152,154,155,156,158,159,160,162,163,164,166,167,168,170,171,172,174,175,176,178,179,180,182,183,184,186,187,188,190,191,192,194,195,196,198,199,200,202,203,206,208,210,211,212,214,215,216,218,219,222,226,227,230,234,238,242,246,247,250,254,258,262,266,270,274,278,282,286,288,290,291,294,298,302,306,310,314,318,322,326,330,331,334,338,342,346,350,354,358,362,366,370,374,378,380,382,383,386,390,394,396,398,399,402,406,410,414,418,422,426,430,434,438,442,446,450,452,453,454,455,456,457,458,459,460,464,465,466,467,468,469,470,471,472,474,475,476,477,479,481,483,484,485,486,487,489,491,492,493,494,495,496,497,498,499,500,501,502,503,504,505,506,507,508,509,510,511,512,513,514,515,516,517,518,519,520,521,522,523,524,525,526,528,529,530,531,532,533,534,535,536,537,538,539,540,541,542,543,544,545,546,547,548,549,550,552,553,554,555,556,557,558,559,560,561,562,563,564,565,566,567,568,569,570,571,572,573,574,575,576,577,578,579,580,581,582,583,584,585,586,587,588,589,590,591,592,593,594,595,596,597,598,599,600,601,602,603,604,606,607,608,609,610,611,612,613,614,615,616,617,618,619,620,621,622,623,624,625,626,627,628,630,631,632,633,634,636,637,638,639,640,642,643,644,645,646,648,649,650,651,652,654,655,656,657,658,660,661,662,663,664,665,666,667,668,669,670,671,672,673,674,675,676,678,679,680,681,682,684,685,686,687,688,689,690,691,692,693,694,696,697,698,699,700,702,703,704,705,706,707,708,709,710,711,712,714,715,716,717,718,719,720,721,722,723,724,725,726,727,728,729,730,732,733,734,735,736,737,738,739,740,741,742,743,744,745,746,747,748,750,751,752,753,754,755,756,757,758,759,760,761,762,763,764,765,766,768,769,770,771,772,773,774,775,776,777,778,780,781,782,783,784,785,786,787,788,789,790,792,793,794,795,796,798,799,800,801,802,804,805,806,807,808,810,811,812,813,814,815,816,817,818,819,820,821,822,823,824,825,826,828,829,830,831,832,834,835,836,837,838,840,841,842,843,844,847,848,849,850,851,853) have mixed types. Specify dtype option on import or set low_memory=False.\n",
            "  df = pd.read_csv('preprocessing.csv')\n"
          ]
        },
        {
          "output_type": "stream",
          "name": "stdout",
          "text": [
            "=== Contoh Hasil Labeling Otomatis (Rapi) ===\n",
            "         video_id             commenter_name  \\\n",
            "3280  qmNrg6fEyEw                   @yan2410   \n",
            "6906  L1WaVEi7ePI             @jihadabie8196   \n",
            "4207  MCVkMmYL-aY        @ernierofficial8799   \n",
            "3278  qmNrg6fEyEw       @ahmadashar-tutorial   \n",
            "5827  60K7zxIjHQo        @hafizhahrahmah4130   \n",
            "4211  MCVkMmYL-aY              @mbaknisa8940   \n",
            "4214  MCVkMmYL-aY             @nankdieto6587   \n",
            "4215  MCVkMmYL-aY                  @lani2233   \n",
            "5154  -HyqafzN8ic  @aryagalangjanursatria318   \n",
            "5153  -HyqafzN8ic            @abdulfitra3771   \n",
            "\n",
            "                                           comment_text          published_at  \\\n",
            "3280  Mantap, selalu mudah dimengerti .\\nBahas Webas...  2022-11-17T15:52:37Z   \n",
            "6906  Hampir tiap hari mantengin youtubenya, tp ngk ...  2023-06-09T10:31:52Z   \n",
            "4207  Aku tutor yang lain gapaham\" tpi klo pak dika ...  2024-09-13T04:47:11Z   \n",
            "3278  Mantap.... Penjelasan simpel dan mudah dipahami 👍  2022-11-18T01:24:09Z   \n",
            "5827  kak, bisa minta tolong bantu aku kak. aku bing...  2020-10-27T10:06:54Z   \n",
            "4211  Apakah di tutorial ini ada penjelasan tentang ...  2024-09-06T16:55:21Z   \n",
            "4214  pagi pak klo pasaran bikin website pake coding...  2024-09-03T01:52:03Z   \n",
            "4215  Mas saya setelah open in default browser Codin...  2024-08-30T08:33:56Z   \n",
            "5154  yang kayak gini konten yg saya cari sekarang  ...  2022-08-25T18:46:06Z   \n",
            "5153  makasih atas ceritanya bang, aku lagi bingung ...  2022-08-27T04:21:35Z   \n",
            "\n",
            "      like_count  konsentrasi                    keterangan  \n",
            "3280         1.0            1  Komentar terkait konsentrasi  \n",
            "6906         0.0            1  Komentar terkait konsentrasi  \n",
            "4207         1.0            1  Komentar terkait konsentrasi  \n",
            "3278         1.0            1  Komentar terkait konsentrasi  \n",
            "5827         2.0            1  Komentar terkait konsentrasi  \n",
            "4211         0.0            1  Komentar terkait konsentrasi  \n",
            "4214         0.0            1  Komentar terkait konsentrasi  \n",
            "4215         0.0            1  Komentar terkait konsentrasi  \n",
            "5154        10.0            1  Komentar terkait konsentrasi  \n",
            "5153        15.0            1  Komentar terkait konsentrasi  \n",
            "\n",
            "✅ Hasil disimpan sebagai 'labeling_otomatis_rapi.csv'\n"
          ]
        }
      ],
      "source": [
        "import pandas as pd\n",
        "\n",
        "# Load file hasil crawling\n",
        "df = pd.read_csv('preprocessing.csv')\n",
        "\n",
        "# Daftar kata kunci yang mengindikasikan komentar tentang konsentrasi\n",
        "keywords = [\n",
        "    'fokus', 'konsentrasi', 'terganggu', 'gangguan', 'distraksi',\n",
        "    'ngerti', 'paham', 'bingung', 'susah ngerti', 'ga ngerti',\n",
        "    'gak fokus', 'nggak fokus', 'bikin ngerti', 'membantu belajar',\n",
        "    'belajar pemrograman', 'ngoding','desain','desain poster','poster',\n",
        "    'belajar kalkulus','kuliah kalkulus', 'kalkulus','algoritma', 'belajar algoritma',\n",
        "    'coding','uiux','materi kuliah', 'visual studio','susah konsen','struktur data',\n",
        "]\n",
        "\n",
        "# Fungsi deteksi kata kunci\n",
        "def check_concentration(comment):\n",
        "    comment = str(comment).lower()\n",
        "    for kw in keywords:\n",
        "        if kw in comment:\n",
        "            return 1\n",
        "    return 0\n",
        "\n",
        "# Terapkan labeling otomatis\n",
        "df['konsentrasi'] = df['comment_text'].apply(check_concentration)\n",
        "\n",
        "# Tambahkan kolom keterangan\n",
        "df['keterangan'] = df['konsentrasi'].apply(lambda x: 'Komentar terkait konsentrasi' if x == 1 else 'Tidak terkait')\n",
        "\n",
        "# Urutkan supaya komentar yang berkaitan muncul di atas\n",
        "df_sorted = df.sort_values(by='konsentrasi', ascending=False)\n",
        "\n",
        "# Pilih dan atur ulang kolom\n",
        "final_columns = ['video_id', 'commenter_name', 'comment_text', 'published_at', 'like_count', 'konsentrasi', 'keterangan']\n",
        "df_final = df_sorted[final_columns]\n",
        "\n",
        "# Simpan hasilnya\n",
        "df_final.to_csv('labeling.csv', index=False, encoding='utf-8')\n",
        "\n",
        "# Tampilkan 10 baris pertama sebagai preview\n",
        "print(\"=== Contoh Hasil Labeling Otomatis (Rapi) ===\")\n",
        "print(df_final.head(10))\n",
        "print(\"\\n✅ Hasil disimpan sebagai 'labeling_otomatis_rapi.csv'\")"
      ]
    },
    {
      "cell_type": "markdown",
      "source": [
        "# **SEIMBANGKAN DATA**"
      ],
      "metadata": {
        "id": "QjfX6azepdgM"
      }
    },
    {
      "cell_type": "code",
      "source": [
        "# Install jika belum\n",
        "!pip install imbalanced-learn\n",
        "\n",
        "import pandas as pd\n",
        "from imblearn.over_sampling import RandomOverSampler\n",
        "\n",
        "# 1. Baca file hasil labeling\n",
        "data = pd.read_csv('labeling.csv')\n",
        "\n",
        "# 2. Pilih fitur (komentar) dan label (konsentrasi)\n",
        "X = data[['comment_text']]  # Fitur: isi komentar\n",
        "y = data['konsentrasi']     # Label: 1 = konsentrasi, 0 = tidak konsentrasi\n",
        "\n",
        "# 3. Tambahkan dummy index untuk melacak teks asli\n",
        "X['dummy_index'] = X.index\n",
        "\n",
        "# 4. Lakukan oversampling untuk seimbangkan jumlah data\n",
        "ros = RandomOverSampler(random_state=42)\n",
        "X_resampled, y_resampled = ros.fit_resample(X, y)\n",
        "\n",
        "# 5. Ambil kembali kolom komentar asli berdasarkan index\n",
        "balanced_data = pd.DataFrame({\n",
        "    'comment_text': data.loc[X_resampled['dummy_index'], 'comment_text'].values,\n",
        "    'konsentrasi': y_resampled\n",
        "})\n",
        "\n",
        "# 6. Simpan data seimbang ke file baru\n",
        "balanced_data.to_csv('data_seimbang_labeling.csv', index=False)\n",
        "\n",
        "# 7. Tampilkan ringkasan hasil\n",
        "print(\"✅ Data berhasil diseimbangkan dan disimpan sebagai 'data_seimbang_labeling.csv'\")\n",
        "print(\"\\n📊 Distribusi label setelah penyeimbangan:\")\n",
        "print(balanced_data['konsentrasi'].value_counts())\n"
      ],
      "metadata": {
        "colab": {
          "base_uri": "https://localhost:8080/"
        },
        "id": "78wU79shn2hN",
        "outputId": "07ab3416-3203-4f9e-e991-5eef9211656b"
      },
      "execution_count": 10,
      "outputs": [
        {
          "output_type": "stream",
          "name": "stdout",
          "text": [
            "Requirement already satisfied: imbalanced-learn in /usr/local/lib/python3.11/dist-packages (0.13.0)\n",
            "Requirement already satisfied: numpy<3,>=1.24.3 in /usr/local/lib/python3.11/dist-packages (from imbalanced-learn) (2.0.2)\n",
            "Requirement already satisfied: scipy<2,>=1.10.1 in /usr/local/lib/python3.11/dist-packages (from imbalanced-learn) (1.15.3)\n",
            "Requirement already satisfied: scikit-learn<2,>=1.3.2 in /usr/local/lib/python3.11/dist-packages (from imbalanced-learn) (1.6.1)\n",
            "Requirement already satisfied: sklearn-compat<1,>=0.1 in /usr/local/lib/python3.11/dist-packages (from imbalanced-learn) (0.1.3)\n",
            "Requirement already satisfied: joblib<2,>=1.1.1 in /usr/local/lib/python3.11/dist-packages (from imbalanced-learn) (1.5.0)\n",
            "Requirement already satisfied: threadpoolctl<4,>=2.0.0 in /usr/local/lib/python3.11/dist-packages (from imbalanced-learn) (3.6.0)\n",
            "✅ Data berhasil diseimbangkan dan disimpan sebagai 'data_seimbang_labeling.csv'\n",
            "\n",
            "📊 Distribusi label setelah penyeimbangan:\n",
            "konsentrasi\n",
            "1    6931\n",
            "0    6931\n",
            "Name: count, dtype: int64\n"
          ]
        },
        {
          "output_type": "stream",
          "name": "stderr",
          "text": [
            "<ipython-input-10-ca83fd2d01c7>:15: SettingWithCopyWarning: \n",
            "A value is trying to be set on a copy of a slice from a DataFrame.\n",
            "Try using .loc[row_indexer,col_indexer] = value instead\n",
            "\n",
            "See the caveats in the documentation: https://pandas.pydata.org/pandas-docs/stable/user_guide/indexing.html#returning-a-view-versus-a-copy\n",
            "  X['dummy_index'] = X.index\n"
          ]
        }
      ]
    },
    {
      "cell_type": "markdown",
      "source": [],
      "metadata": {
        "id": "G4mJ90T1n0_z"
      }
    },
    {
      "cell_type": "code",
      "source": [
        "import csv\n",
        "\n",
        "filename = 'data_seimbang_labeling.csv'  # ganti dengan nama file CSV kamu\n",
        "\n",
        "with open(filename, mode='r', newline='') as file:\n",
        "    reader = csv.reader(file)\n",
        "    next(reader)  # skip header, hapus baris ini kalau CSV kamu gak ada header\n",
        "    row_count = sum(1 for row in reader)\n",
        "\n",
        "print(f\"Jumlah data dalam CSV: {row_count}\")\n"
      ],
      "metadata": {
        "colab": {
          "base_uri": "https://localhost:8080/"
        },
        "id": "Xnpk51rHsi0u",
        "outputId": "e3bde6fb-4463-46dd-f84f-5ef25153521c"
      },
      "execution_count": 11,
      "outputs": [
        {
          "output_type": "stream",
          "name": "stdout",
          "text": [
            "Jumlah data dalam CSV: 13862\n"
          ]
        }
      ]
    },
    {
      "cell_type": "code",
      "source": [
        "df['konsentrasi'].value_counts()\n"
      ],
      "metadata": {
        "colab": {
          "base_uri": "https://localhost:8080/",
          "height": 178
        },
        "id": "VAAdJFWmejAw",
        "outputId": "458f658b-d0d1-4663-c83e-5b0f3aa07322"
      },
      "execution_count": 12,
      "outputs": [
        {
          "output_type": "execute_result",
          "data": {
            "text/plain": [
              "konsentrasi\n",
              "0    6931\n",
              "1     538\n",
              "Name: count, dtype: int64"
            ],
            "text/html": [
              "<div>\n",
              "<style scoped>\n",
              "    .dataframe tbody tr th:only-of-type {\n",
              "        vertical-align: middle;\n",
              "    }\n",
              "\n",
              "    .dataframe tbody tr th {\n",
              "        vertical-align: top;\n",
              "    }\n",
              "\n",
              "    .dataframe thead th {\n",
              "        text-align: right;\n",
              "    }\n",
              "</style>\n",
              "<table border=\"1\" class=\"dataframe\">\n",
              "  <thead>\n",
              "    <tr style=\"text-align: right;\">\n",
              "      <th></th>\n",
              "      <th>count</th>\n",
              "    </tr>\n",
              "    <tr>\n",
              "      <th>konsentrasi</th>\n",
              "      <th></th>\n",
              "    </tr>\n",
              "  </thead>\n",
              "  <tbody>\n",
              "    <tr>\n",
              "      <th>0</th>\n",
              "      <td>6931</td>\n",
              "    </tr>\n",
              "    <tr>\n",
              "      <th>1</th>\n",
              "      <td>538</td>\n",
              "    </tr>\n",
              "  </tbody>\n",
              "</table>\n",
              "</div><br><label><b>dtype:</b> int64</label>"
            ]
          },
          "metadata": {},
          "execution_count": 12
        }
      ]
    },
    {
      "cell_type": "markdown",
      "metadata": {
        "id": "0HEoSwQ-fWVV"
      },
      "source": [
        "# **PELATIHAN MODEL**"
      ]
    },
    {
      "cell_type": "code",
      "source": [
        "import pandas as pd\n",
        "import numpy as np\n",
        "from tensorflow.keras.preprocessing.text import Tokenizer\n",
        "from tensorflow.keras.preprocessing.sequence import pad_sequences\n",
        "from tensorflow.keras.models import Sequential\n",
        "from tensorflow.keras.layers import Embedding, Conv1D, GlobalMaxPooling1D, Dense, Dropout\n",
        "from tensorflow.keras.utils import to_categorical\n",
        "from sklearn.model_selection import train_test_split\n",
        "from sklearn.metrics import classification_report, confusion_matrix, accuracy_score\n",
        "import seaborn as sns\n",
        "import matplotlib.pyplot as plt\n",
        "\n",
        "# 1. Load data\n",
        "df = pd.read_csv('/content/data_seimbang_labeling.csv')\n",
        "df = df.dropna(subset=['comment_text', 'konsentrasi'])\n",
        "\n",
        "# 2. Label dan data teks\n",
        "texts = df['comment_text'].values\n",
        "labels = df['konsentrasi'].values\n",
        "\n",
        "# 3. Tokenisasi teks\n",
        "max_words = 10000  # jumlah maksimal kata\n",
        "max_len = 100      # panjang sequence (bisa disesuaikan)\n",
        "\n",
        "tokenizer = Tokenizer(num_words=max_words)\n",
        "tokenizer.fit_on_texts(texts)\n",
        "sequences = tokenizer.texts_to_sequences(texts)\n",
        "X = pad_sequences(sequences, maxlen=max_len)\n",
        "\n",
        "# 4. Label untuk binary classification (0 dan 1)\n",
        "y = labels\n",
        "\n",
        "# 5. Split data\n",
        "X_train, X_test, y_train, y_test = train_test_split(\n",
        "    X, y, test_size=0.2, random_state=42, stratify=y\n",
        ")\n",
        "\n",
        "# 6. Bangun model CNN\n",
        "model = Sequential()\n",
        "model.add(Embedding(input_dim=max_words, output_dim=128, input_length=max_len))\n",
        "model.add(Conv1D(filters=128, kernel_size=5, activation='relu'))\n",
        "model.add(GlobalMaxPooling1D())\n",
        "model.add(Dense(64, activation='relu'))\n",
        "model.add(Dropout(0.5))\n",
        "model.add(Dense(1, activation='sigmoid'))  # output 1 node dengan sigmoid untuk binary classification\n",
        "\n",
        "model.compile(optimizer='adam', loss='binary_crossentropy', metrics=['accuracy'])\n",
        "\n",
        "model.summary()\n",
        "\n",
        "# 7. Latih model\n",
        "history = model.fit(\n",
        "    X_train, y_train,\n",
        "    epochs=10,\n",
        "    batch_size=32,\n",
        "    validation_split=0.1,\n",
        "    class_weight={0: 1, 1: 1}  # Bisa diatur sesuai kebutuhan\n",
        ")\n",
        "\n",
        "# 8. Evaluasi\n",
        "y_pred_prob = model.predict(X_test)\n",
        "y_pred = (y_pred_prob > 0.5).astype(int).flatten()\n",
        "\n",
        "print(\"\\n=== Classification Report ===\")\n",
        "print(classification_report(y_test, y_pred, target_names=['Tidak Konsentrasi', 'Konsentrasi']))\n",
        "\n",
        "print(\"\\n✅ Akurasi:\", round(accuracy_score(y_test, y_pred) * 100, 2), \"%\")\n",
        "\n",
        "cm = confusion_matrix(y_test, y_pred)\n",
        "labels = ['Tidak Konsentrasi', 'Konsentrasi']\n",
        "\n",
        "plt.figure(figsize=(6, 5))\n",
        "sns.heatmap(cm, annot=True, fmt='d', cmap='Blues', xticklabels=labels, yticklabels=labels)\n",
        "plt.xlabel('Prediksi')\n",
        "plt.ylabel('Aktual')\n",
        "plt.title('Confusion Matrix')\n",
        "plt.tight_layout()\n",
        "plt.show()\n"
      ],
      "metadata": {
        "colab": {
          "base_uri": "https://localhost:8080/",
          "height": 1000
        },
        "id": "YO7Mz_hTfVc8",
        "outputId": "12af6ae1-902c-4016-eefc-f992038faef4"
      },
      "execution_count": 16,
      "outputs": [
        {
          "output_type": "stream",
          "name": "stderr",
          "text": [
            "/usr/local/lib/python3.11/dist-packages/keras/src/layers/core/embedding.py:90: UserWarning: Argument `input_length` is deprecated. Just remove it.\n",
            "  warnings.warn(\n"
          ]
        },
        {
          "output_type": "display_data",
          "data": {
            "text/plain": [
              "\u001b[1mModel: \"sequential_2\"\u001b[0m\n"
            ],
            "text/html": [
              "<pre style=\"white-space:pre;overflow-x:auto;line-height:normal;font-family:Menlo,'DejaVu Sans Mono',consolas,'Courier New',monospace\"><span style=\"font-weight: bold\">Model: \"sequential_2\"</span>\n",
              "</pre>\n"
            ]
          },
          "metadata": {}
        },
        {
          "output_type": "display_data",
          "data": {
            "text/plain": [
              "┏━━━━━━━━━━━━━━━━━━━━━━━━━━━━━━━━━┳━━━━━━━━━━━━━━━━━━━━━━━━┳━━━━━━━━━━━━━━━┓\n",
              "┃\u001b[1m \u001b[0m\u001b[1mLayer (type)                   \u001b[0m\u001b[1m \u001b[0m┃\u001b[1m \u001b[0m\u001b[1mOutput Shape          \u001b[0m\u001b[1m \u001b[0m┃\u001b[1m \u001b[0m\u001b[1m      Param #\u001b[0m\u001b[1m \u001b[0m┃\n",
              "┡━━━━━━━━━━━━━━━━━━━━━━━━━━━━━━━━━╇━━━━━━━━━━━━━━━━━━━━━━━━╇━━━━━━━━━━━━━━━┩\n",
              "│ embedding_2 (\u001b[38;5;33mEmbedding\u001b[0m)         │ ?                      │   \u001b[38;5;34m0\u001b[0m (unbuilt) │\n",
              "├─────────────────────────────────┼────────────────────────┼───────────────┤\n",
              "│ conv1d_2 (\u001b[38;5;33mConv1D\u001b[0m)               │ ?                      │   \u001b[38;5;34m0\u001b[0m (unbuilt) │\n",
              "├─────────────────────────────────┼────────────────────────┼───────────────┤\n",
              "│ global_max_pooling1d_2          │ ?                      │             \u001b[38;5;34m0\u001b[0m │\n",
              "│ (\u001b[38;5;33mGlobalMaxPooling1D\u001b[0m)            │                        │               │\n",
              "├─────────────────────────────────┼────────────────────────┼───────────────┤\n",
              "│ dense_4 (\u001b[38;5;33mDense\u001b[0m)                 │ ?                      │   \u001b[38;5;34m0\u001b[0m (unbuilt) │\n",
              "├─────────────────────────────────┼────────────────────────┼───────────────┤\n",
              "│ dropout_2 (\u001b[38;5;33mDropout\u001b[0m)             │ ?                      │             \u001b[38;5;34m0\u001b[0m │\n",
              "├─────────────────────────────────┼────────────────────────┼───────────────┤\n",
              "│ dense_5 (\u001b[38;5;33mDense\u001b[0m)                 │ ?                      │   \u001b[38;5;34m0\u001b[0m (unbuilt) │\n",
              "└─────────────────────────────────┴────────────────────────┴───────────────┘\n"
            ],
            "text/html": [
              "<pre style=\"white-space:pre;overflow-x:auto;line-height:normal;font-family:Menlo,'DejaVu Sans Mono',consolas,'Courier New',monospace\">┏━━━━━━━━━━━━━━━━━━━━━━━━━━━━━━━━━┳━━━━━━━━━━━━━━━━━━━━━━━━┳━━━━━━━━━━━━━━━┓\n",
              "┃<span style=\"font-weight: bold\"> Layer (type)                    </span>┃<span style=\"font-weight: bold\"> Output Shape           </span>┃<span style=\"font-weight: bold\">       Param # </span>┃\n",
              "┡━━━━━━━━━━━━━━━━━━━━━━━━━━━━━━━━━╇━━━━━━━━━━━━━━━━━━━━━━━━╇━━━━━━━━━━━━━━━┩\n",
              "│ embedding_2 (<span style=\"color: #0087ff; text-decoration-color: #0087ff\">Embedding</span>)         │ ?                      │   <span style=\"color: #00af00; text-decoration-color: #00af00\">0</span> (unbuilt) │\n",
              "├─────────────────────────────────┼────────────────────────┼───────────────┤\n",
              "│ conv1d_2 (<span style=\"color: #0087ff; text-decoration-color: #0087ff\">Conv1D</span>)               │ ?                      │   <span style=\"color: #00af00; text-decoration-color: #00af00\">0</span> (unbuilt) │\n",
              "├─────────────────────────────────┼────────────────────────┼───────────────┤\n",
              "│ global_max_pooling1d_2          │ ?                      │             <span style=\"color: #00af00; text-decoration-color: #00af00\">0</span> │\n",
              "│ (<span style=\"color: #0087ff; text-decoration-color: #0087ff\">GlobalMaxPooling1D</span>)            │                        │               │\n",
              "├─────────────────────────────────┼────────────────────────┼───────────────┤\n",
              "│ dense_4 (<span style=\"color: #0087ff; text-decoration-color: #0087ff\">Dense</span>)                 │ ?                      │   <span style=\"color: #00af00; text-decoration-color: #00af00\">0</span> (unbuilt) │\n",
              "├─────────────────────────────────┼────────────────────────┼───────────────┤\n",
              "│ dropout_2 (<span style=\"color: #0087ff; text-decoration-color: #0087ff\">Dropout</span>)             │ ?                      │             <span style=\"color: #00af00; text-decoration-color: #00af00\">0</span> │\n",
              "├─────────────────────────────────┼────────────────────────┼───────────────┤\n",
              "│ dense_5 (<span style=\"color: #0087ff; text-decoration-color: #0087ff\">Dense</span>)                 │ ?                      │   <span style=\"color: #00af00; text-decoration-color: #00af00\">0</span> (unbuilt) │\n",
              "└─────────────────────────────────┴────────────────────────┴───────────────┘\n",
              "</pre>\n"
            ]
          },
          "metadata": {}
        },
        {
          "output_type": "display_data",
          "data": {
            "text/plain": [
              "\u001b[1m Total params: \u001b[0m\u001b[38;5;34m0\u001b[0m (0.00 B)\n"
            ],
            "text/html": [
              "<pre style=\"white-space:pre;overflow-x:auto;line-height:normal;font-family:Menlo,'DejaVu Sans Mono',consolas,'Courier New',monospace\"><span style=\"font-weight: bold\"> Total params: </span><span style=\"color: #00af00; text-decoration-color: #00af00\">0</span> (0.00 B)\n",
              "</pre>\n"
            ]
          },
          "metadata": {}
        },
        {
          "output_type": "display_data",
          "data": {
            "text/plain": [
              "\u001b[1m Trainable params: \u001b[0m\u001b[38;5;34m0\u001b[0m (0.00 B)\n"
            ],
            "text/html": [
              "<pre style=\"white-space:pre;overflow-x:auto;line-height:normal;font-family:Menlo,'DejaVu Sans Mono',consolas,'Courier New',monospace\"><span style=\"font-weight: bold\"> Trainable params: </span><span style=\"color: #00af00; text-decoration-color: #00af00\">0</span> (0.00 B)\n",
              "</pre>\n"
            ]
          },
          "metadata": {}
        },
        {
          "output_type": "display_data",
          "data": {
            "text/plain": [
              "\u001b[1m Non-trainable params: \u001b[0m\u001b[38;5;34m0\u001b[0m (0.00 B)\n"
            ],
            "text/html": [
              "<pre style=\"white-space:pre;overflow-x:auto;line-height:normal;font-family:Menlo,'DejaVu Sans Mono',consolas,'Courier New',monospace\"><span style=\"font-weight: bold\"> Non-trainable params: </span><span style=\"color: #00af00; text-decoration-color: #00af00\">0</span> (0.00 B)\n",
              "</pre>\n"
            ]
          },
          "metadata": {}
        },
        {
          "output_type": "stream",
          "name": "stdout",
          "text": [
            "Epoch 1/10\n",
            "\u001b[1m241/241\u001b[0m \u001b[32m━━━━━━━━━━━━━━━━━━━━\u001b[0m\u001b[37m\u001b[0m \u001b[1m15s\u001b[0m 56ms/step - accuracy: 0.7770 - loss: 0.4154 - val_accuracy: 0.9977 - val_loss: 0.0098\n",
            "Epoch 2/10\n",
            "\u001b[1m241/241\u001b[0m \u001b[32m━━━━━━━━━━━━━━━━━━━━\u001b[0m\u001b[37m\u001b[0m \u001b[1m20s\u001b[0m 56ms/step - accuracy: 0.9985 - loss: 0.0078 - val_accuracy: 0.9988 - val_loss: 0.0023\n",
            "Epoch 3/10\n",
            "\u001b[1m241/241\u001b[0m \u001b[32m━━━━━━━━━━━━━━━━━━━━\u001b[0m\u001b[37m\u001b[0m \u001b[1m13s\u001b[0m 54ms/step - accuracy: 0.9998 - loss: 0.0011 - val_accuracy: 0.9988 - val_loss: 0.0018\n",
            "Epoch 4/10\n",
            "\u001b[1m241/241\u001b[0m \u001b[32m━━━━━━━━━━━━━━━━━━━━\u001b[0m\u001b[37m\u001b[0m \u001b[1m20s\u001b[0m 55ms/step - accuracy: 1.0000 - loss: 4.5690e-04 - val_accuracy: 1.0000 - val_loss: 4.5166e-04\n",
            "Epoch 5/10\n",
            "\u001b[1m241/241\u001b[0m \u001b[32m━━━━━━━━━━━━━━━━━━━━\u001b[0m\u001b[37m\u001b[0m \u001b[1m20s\u001b[0m 54ms/step - accuracy: 1.0000 - loss: 1.4156e-04 - val_accuracy: 1.0000 - val_loss: 6.8981e-04\n",
            "Epoch 6/10\n",
            "\u001b[1m241/241\u001b[0m \u001b[32m━━━━━━━━━━━━━━━━━━━━\u001b[0m\u001b[37m\u001b[0m \u001b[1m21s\u001b[0m 55ms/step - accuracy: 1.0000 - loss: 1.0242e-04 - val_accuracy: 1.0000 - val_loss: 5.1280e-04\n",
            "Epoch 7/10\n",
            "\u001b[1m241/241\u001b[0m \u001b[32m━━━━━━━━━━━━━━━━━━━━\u001b[0m\u001b[37m\u001b[0m \u001b[1m13s\u001b[0m 56ms/step - accuracy: 1.0000 - loss: 5.3553e-05 - val_accuracy: 1.0000 - val_loss: 2.3832e-04\n",
            "Epoch 8/10\n",
            "\u001b[1m241/241\u001b[0m \u001b[32m━━━━━━━━━━━━━━━━━━━━\u001b[0m\u001b[37m\u001b[0m \u001b[1m21s\u001b[0m 56ms/step - accuracy: 1.0000 - loss: 4.2080e-05 - val_accuracy: 1.0000 - val_loss: 4.7739e-04\n",
            "Epoch 9/10\n",
            "\u001b[1m241/241\u001b[0m \u001b[32m━━━━━━━━━━━━━━━━━━━━\u001b[0m\u001b[37m\u001b[0m \u001b[1m20s\u001b[0m 56ms/step - accuracy: 1.0000 - loss: 8.0224e-05 - val_accuracy: 1.0000 - val_loss: 2.0413e-04\n",
            "Epoch 10/10\n",
            "\u001b[1m241/241\u001b[0m \u001b[32m━━━━━━━━━━━━━━━━━━━━\u001b[0m\u001b[37m\u001b[0m \u001b[1m22s\u001b[0m 63ms/step - accuracy: 1.0000 - loss: 2.8373e-05 - val_accuracy: 1.0000 - val_loss: 5.5440e-04\n",
            "\u001b[1m67/67\u001b[0m \u001b[32m━━━━━━━━━━━━━━━━━━━━\u001b[0m\u001b[37m\u001b[0m \u001b[1m1s\u001b[0m 12ms/step\n",
            "\n",
            "=== Classification Report ===\n",
            "                   precision    recall  f1-score   support\n",
            "\n",
            "Tidak Konsentrasi       1.00      1.00      1.00       748\n",
            "      Konsentrasi       1.00      1.00      1.00      1386\n",
            "\n",
            "         accuracy                           1.00      2134\n",
            "        macro avg       1.00      1.00      1.00      2134\n",
            "     weighted avg       1.00      1.00      1.00      2134\n",
            "\n",
            "\n",
            "✅ Akurasi: 99.95 %\n"
          ]
        },
        {
          "output_type": "display_data",
          "data": {
            "text/plain": [
              "<Figure size 600x500 with 2 Axes>"
            ],
            "image/png": "[encoded data removed]"
          },
          "metadata": {}
        }
      ]
    }
  ],
  "metadata": {
    "colab": {
      "provenance": [],
      "include_colab_link": true
    },
    "kernelspec": {
      "display_name": "Python 3",
      "name": "python3"
    },
    "language_info": {
      "name": "python"
    }
  },
  "nbformat": 4,
  "nbformat_minor": 0
}